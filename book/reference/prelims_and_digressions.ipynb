{
  "cells": [
    {
      "cell_type": "markdown",
      "id": "9d2edb38-2b8b-4e5c-a452-8dfe3ea0771e",
      "metadata": {},
      "source": [
        "# Preliminaries and Digressions\n",
        "\n",
        "This notebook is a collection of topics that might be considered preliminaries *or* digressions that might supplement your understanding but aren't purely necessary for this course. I'll try to be clear about what is what or split these notes out as they grow."
      ]
    },
    {
      "cell_type": "markdown",
      "id": "68b60d51-0bf6-4880-834c-8c456cdc3972",
      "metadata": {
        "tags": []
      },
      "source": [
        "## Python Basics\n",
        "\n",
        "### Syntax\n",
        "\n",
        "Let me assume that if you don't know Python, you at least know R. Then, there are only a few surprises. \n",
        "\n",
        "* Use `=` for assignment instead of `<-`\n",
        "* Use `**` for exponentiation instead of `^`. So $2^3$ is coded as `2**3`. \n",
        "* Python is zero-indexed. The element of at the beginning of the list `x = [9, 7]` is the value `9` and it is accessed as `x[0]`. This also means that, though `x` is of length two, the last element is at place `x[1]`. Indices generally run over the interval $0 \\leq i < \\text{length of array}$. This is how [Dykstra wanted it](https://www.cs.utexas.edu/~EWD/ewd08xx/EWD831.PDF).\n",
        "\n",
        "In action:"
      ]
    },
    {
      "cell_type": "code",
      "execution_count": 1,
      "id": "2pjjlvxcos3",
      "metadata": {
        "tags": []
      },
      "outputs": [
        {
          "name": "stdout",
          "output_type": "stream",
          "text": [
            "x = 5\n",
            "2 to the power of 3 = 8\n",
            "\n",
            "First grade (index 0): 85\n",
            "Last grade (index 3): 95\n"
          ]
        }
      ],
      "source": [
        "# Assignment and exponentiation\n",
        "x = 5  # In R: x <- 5\n",
        "y = 2**3  # In R: 2^3\n",
        "print(f\"x = {x}\")\n",
        "print(f\"2 to the power of 3 = {y}\")\n",
        "\n",
        "# Zero-indexing example\n",
        "grades = [85, 92, 78, 95]\n",
        "print(f\"\\nFirst grade (index 0): {grades[0]}\")\n",
        "print(f\"Last grade (index 3): {grades[3]}\")\n",
        "# grades[4] would give an error!"
      ]
    },
    {
      "cell_type": "markdown",
      "id": "eykemsjgtpk",
      "metadata": {},
      "source": [
        "**Quick note on f-strings**: The `f\"text {variable}\"` syntax is Python's way of inserting variables into text. It's like `paste0(\"text \", variable)` in R but cleaner. Just put an `f` before the quotes and wrap variables in `{}`."
      ]
    },
    {
      "cell_type": "markdown",
      "id": "35eiuz8arsb",
      "metadata": {},
      "source": [
        "Here are a few more differences that will save you debugging time:"
      ]
    },
    {
      "cell_type": "code",
      "execution_count": 2,
      "id": "5ai5e08m21t",
      "metadata": {
        "tags": []
      },
      "outputs": [
        {
          "name": "stdout",
          "output_type": "stream",
          "text": [
            "Student name: Alex\n",
            "\n",
            "Mean score: 85.0\n"
          ]
        }
      ],
      "source": [
        "# Data structures: R vectors become Python lists\n",
        "scores = [85, 92, 78]  # Like c(85, 92, 78) in R\n",
        "\n",
        "# R's named vectors become Python dictionaries\n",
        "student = {\"name\": \"Alex\", \"grade\": 92}  # Like c(name=\"Alex\", grade=92)\n",
        "print(f\"Student name: {student['name']}\")\n",
        "\n",
        "# Functions are defined differently\n",
        "def calculate_mean(numbers):\n",
        "    \"\"\"Calculate the mean of a list of numbers\"\"\"\n",
        "    return sum(numbers) / len(numbers)\n",
        "\n",
        "# Using the function\n",
        "mean_score = calculate_mean(scores)\n",
        "print(f\"\\nMean score: {mean_score}\")"
      ]
    },
    {
      "cell_type": "markdown",
      "id": "9s2d5z0aoc",
      "metadata": {},
      "source": [
        "### Where to run the code?\n",
        "You can probably get by just using Google Colab notebooks for everything in this course. However, I recommend working in [**VS Code**](https://code.visualstudio.com/) or [**JupyterLab**](https://github.com/jupyterlab/jupyterlab-desktop) instead. I usually write notebooks in JupyterLab and write standalone py files in VS Code or Sublime. AI integration is better in VS Code. Cursor is built off of VS Code for even more AI integration. \n",
        "\n",
        "VS Code is nice because you can split the screen with files and a terminal session. In the terminal, I run Claude Code. \n",
        "\n",
        "If you find yourself using a similar workflow, writing both notebooks and py files, I recommend using the IPython magics `%run` and `%load` to run a python file. For a file called `foo.py`, `%run foo.py` then executes that code as if it were pasted into your notebook code cell and `%run -i foo.py` runs it in the local namespace, meaning it can use variables already defined in the notebook. `%load foo.py`\n",
        "\n",
        "If you discover an even better workflow, let me know!\n"
      ]
    },
    {
      "cell_type": "markdown",
      "id": "up1vss5ngik",
      "metadata": {},
      "source": [
        "### What else do I need to install? \n",
        "\n",
        "If you are working outside of a cloud environment, you'll need to install Python packages.\n",
        "\n",
        "**Option 1: Using pip**\n",
        "```bash\n",
        "pip install -r requirements.txt\n",
        "```\n",
        "\n",
        "**Option 2: Using conda environments**\n",
        "\n",
        "A conda environment is an isolated workspace with its own packages and dependencies. This keeps different projects' requirements separate.\n",
        "\n",
        "```bash\n",
        "# Create environment from the course's environment.yml file\n",
        "conda env create -f environment.yml\n",
        "\n",
        "# Activate the environment\n",
        "conda activate mlss\n",
        "\n",
        "# Deactivate when done\n",
        "conda deactivate\n",
        "```\n",
        "\n",
        "The environment.yml file in the repository root includes NumPy, pandas, scikit-learn, PyTorch, and Jupyter.\n",
        "\n",
        "## Data Manipulation with Python\n",
        "\n",
        "Tabular data is usually stored as DataFrames either in `pandas` or `polars`. `pandas` is more common and AI will default to this when writing code. `polars` is somewhat new--new enough that ChatGPT still makes basic mistakes when writing `polars` code. We'll basically ignore `polars` for simplicity, but I mention it because my industry workflow is `polars`-first. I sometimes work with data that is too big for `pandas` (>100M rows given the tech I'm working with). I've heard R users say `polars` makes more sense to them than `pandas`. "
      ]
    },
    {
      "cell_type": "markdown",
      "id": "85w67hlbr9t",
      "metadata": {},
      "source": [
        "## American Time Use Survey (ATUS)\n",
        "\n",
        "The American Time Use Survey is a federal survey conducted by the Bureau of Labor Statistics. Respondents report their activities for a 24-hour period, creating time diaries. The survey draws from households that completed the Current Population Survey and has been conducted annually since 2003."
      ]
    },
    {
      "cell_type": "markdown",
      "id": "c8e9l1z2rnm",
      "metadata": {},
      "source": [
        "### Available Microdata Files\n",
        "\n",
        "ATUS releases several microdata files each year:\n",
        "\n",
        "- **resp** - Respondent file with demographics and labor force characteristics  \n",
        "- **act** - Activity file with one record per activity in the diary day\n",
        "- **sum** - Summary file with total minutes per activity category\n",
        "- **who** - Who file indicating who was present during activities\n",
        "- **rost** - Roster file with household member information\n",
        "- **cps** - CPS file with Current Population Survey data for ATUS households\n",
        "\n",
        "Each file can be merged using the case ID (TUCASEID)."
      ]
    },
    {
      "cell_type": "markdown",
      "id": "9bv17sh85ph",
      "metadata": {},
      "source": [
        "### Downloading ATUS Files with statwrap\n",
        "\n",
        "The `statwrap` package provides convenience functions for accessing ATUS data:"
      ]
    },
    {
      "cell_type": "code",
      "execution_count": null,
      "id": "1wjlnjfsu3z",
      "metadata": {},
      "outputs": [],
      "source": [
        "from statwrap.atus import get_microdata_link, read_zip\n",
        "\n",
        "# Get download links for different file types\n",
        "print(\"Respondent file (2023):\", get_microdata_link('resp', 2023))\n",
        "print(\"Activity file (2023):\", get_microdata_link('act', 2023))\n",
        "print(\"Summary file (2023):\", get_microdata_link('sum', 2023))\n",
        "\n",
        "# For earlier years\n",
        "print(\"\\nRespondent file (2020):\", get_microdata_link('resp', 2020))"
      ]
    },
    {
      "cell_type": "markdown",
      "id": "801cb6sl5t",
      "metadata": {},
      "source": [
        "After downloading files manually, use `read_zip` to load them:"
      ]
    },
    {
      "cell_type": "code",
      "execution_count": null,
      "id": "p0b7473jd4o",
      "metadata": {},
      "outputs": [],
      "source": [
        "# Assuming files are downloaded to current directory\n",
        "# resp_df = read_zip('atusresp-0323.zip')\n",
        "# sum_df = read_zip('atussum-0323.zip')\n",
        "# act_df = read_zip('atusact-0323.zip')"
      ]
    },
    {
      "cell_type": "markdown",
      "id": "9dwtiz8i4ya",
      "metadata": {},
      "source": [
        "### Merging ATUS Files\n",
        "\n",
        "A common analysis combines respondent characteristics with time use summaries:"
      ]
    },
    {
      "cell_type": "code",
      "execution_count": null,
      "id": "ibkm872pmjr",
      "metadata": {},
      "outputs": [],
      "source": [
        "# Example merge between respondent and summary files\n",
        "# Uncomment after downloading both files:\n",
        "\n",
        "# import pandas as pd\n",
        "# resp_df = read_zip('atusresp-0323.zip')\n",
        "# sum_df = read_zip('atussum-0323.zip')\n",
        "\n",
        "# # Merge on case ID\n",
        "# merged_df = pd.merge(resp_df, sum_df, on='TUCASEID', how='inner')\n",
        "\n",
        "# # Example analysis: Average work time by sex\n",
        "# work_cols = ['t050101', 't050102', 't050103']  # Work activities\n",
        "# merged_df['work_minutes'] = merged_df[work_cols].sum(axis=1)\n",
        "# merged_df.groupby('TESEX')['work_minutes'].mean()"
      ]
    },
    {
      "cell_type": "markdown",
      "id": "2180a82f-c681-4b88-89d0-172ed246b40f",
      "metadata": {},
      "source": [
        "## Digression: Making DataFrames Look Nice with Stylers\n",
        "\n",
        "Pandas has a `.style` attribute that lets you format DataFrames for better visual presentation. This is especially useful when presenting results or exploring data patterns. Here are three useful methods:"
      ]
    },
    {
      "cell_type": "code",
      "execution_count": null,
      "id": "v194tc03lef",
      "metadata": {
        "tags": []
      },
      "outputs": [
        {
          "name": "stdout",
          "output_type": "stream",
          "text": [
            "Our data:\n"
          ]
        },
        {
          "data": {
            "text/html": [
              "<div>\n",
              "<style scoped>\n",
              "    .dataframe tbody tr th:only-of-type {\n",
              "        vertical-align: middle;\n",
              "    }\n",
              "\n",
              "    .dataframe tbody tr th {\n",
              "        vertical-align: top;\n",
              "    }\n",
              "\n",
              "    .dataframe thead th {\n",
              "        text-align: right;\n",
              "    }\n",
              "</style>\n",
              "<table border=\"1\" class=\"dataframe\">\n",
              "  <thead>\n",
              "    <tr style=\"text-align: right;\">\n",
              "      <th></th>\n",
              "      <th>State</th>\n",
              "      <th>Population_M</th>\n",
              "      <th>GDP_per_capita</th>\n",
              "      <th>Unemployment_rate</th>\n",
              "      <th>College_grad_pct</th>\n",
              "    </tr>\n",
              "  </thead>\n",
              "  <tbody>\n",
              "    <tr>\n",
              "      <th>0</th>\n",
              "      <td>California</td>\n",
              "      <td>39.5</td>\n",
              "      <td>88700</td>\n",
              "      <td>3.9</td>\n",
              "      <td>35.0</td>\n",
              "    </tr>\n",
              "    <tr>\n",
              "      <th>1</th>\n",
              "      <td>Texas</td>\n",
              "      <td>29.5</td>\n",
              "      <td>71900</td>\n",
              "      <td>3.4</td>\n",
              "      <td>32.2</td>\n",
              "    </tr>\n",
              "    <tr>\n",
              "      <th>2</th>\n",
              "      <td>Florida</td>\n",
              "      <td>21.8</td>\n",
              "      <td>55700</td>\n",
              "      <td>2.8</td>\n",
              "      <td>31.3</td>\n",
              "    </tr>\n",
              "    <tr>\n",
              "      <th>3</th>\n",
              "      <td>New York</td>\n",
              "      <td>19.5</td>\n",
              "      <td>95500</td>\n",
              "      <td>3.7</td>\n",
              "      <td>37.5</td>\n",
              "    </tr>\n",
              "    <tr>\n",
              "      <th>4</th>\n",
              "      <td>Pennsylvania</td>\n",
              "      <td>12.8</td>\n",
              "      <td>72800</td>\n",
              "      <td>3.5</td>\n",
              "      <td>33.1</td>\n",
              "    </tr>\n",
              "  </tbody>\n",
              "</table>\n",
              "</div>"
            ],
            "text/plain": [
              "          State  Population_M  GDP_per_capita  Unemployment_rate  \\\n",
              "0    California          39.5           88700                3.9   \n",
              "1         Texas          29.5           71900                3.4   \n",
              "2       Florida          21.8           55700                2.8   \n",
              "3      New York          19.5           95500                3.7   \n",
              "4  Pennsylvania          12.8           72800                3.5   \n",
              "\n",
              "   College_grad_pct  \n",
              "0              35.0  \n",
              "1              32.2  \n",
              "2              31.3  \n",
              "3              37.5  \n",
              "4              33.1  "
            ]
          },
          "execution_count": 7,
          "metadata": {},
          "output_type": "execute_result"
        }
      ],
      "source": [
        "import pandas as pd\n",
        "\n",
        "# First, let's create a sample dataset with more numeric columns\n",
        "results_df = pd.DataFrame({\n",
        "    'State': ['California', 'Texas', 'Florida', 'New York', 'Pennsylvania'],\n",
        "    'Population_M': [39.5, 29.5, 21.8, 19.5, 12.8],\n",
        "    'GDP_per_capita': [88700, 71900, 55700, 95500, 72800],\n",
        "    'Unemployment_rate': [3.9, 3.4, 2.8, 3.7, 3.5],\n",
        "    'College_grad_pct': [35.0, 32.2, 31.3, 37.5, 33.1]\n",
        "})\n",
        "\n",
        "print(\"Our data:\")\n",
        "results_df"
      ]
    },
    {
      "cell_type": "markdown",
      "id": "0eyc5p9zztxi",
      "metadata": {},
      "source": [
        "### 1. Format: Control how numbers are displayed"
      ]
    },
    {
      "cell_type": "code",
      "execution_count": null,
      "id": "62fopprte9r",
      "metadata": {
        "tags": []
      },
      "outputs": [],
      "source": "# Format numbers for better readability\nstyled = results_df.style.format({\n    'Population_M': '{:.1f}M',          # One decimal place with M suffix\n    'GDP_per_capita': '${:,.0f}',       # Dollar sign with commas\n    'Unemployment_rate': '{:.1f}%',     # Add % sign (don't multiply by 100)\n    'College_grad_pct': '{:.1f}%'       # Just add % sign (don't multiply)\n})\ndisplay(styled)"
    },
    {
      "cell_type": "markdown",
      "id": "u1ycmk2jm3",
      "metadata": {},
      "source": [
        "### 2. Background gradient: Visualize patterns with color\n",
        "\n",
        "use the `axis` parameter to adjust bar heights relative to other column values (`axis=0`), other row values (`axis=1`) or all values in the table (`axis=None`)."
      ]
    },
    {
      "cell_type": "code",
      "execution_count": null,
      "id": "5gbj5knf893",
      "metadata": {
        "tags": []
      },
      "outputs": [],
      "source": "# Apply color gradients to see patterns\nnumeric_cols = ['Population_M', 'GDP_per_capita', 'Unemployment_rate', 'College_grad_pct']\ndisplay(results_df.style.background_gradient(cmap='Greens', subset=numeric_cols, axis=0))"
    },
    {
      "cell_type": "code",
      "execution_count": null,
      "id": "yf8ztjib69f",
      "metadata": {
        "tags": []
      },
      "outputs": [],
      "source": "display(results_df.style.background_gradient(cmap='coolwarm_r', subset=numeric_cols, axis=None))"
    },
    {
      "cell_type": "markdown",
      "id": "kq9q5fi0c7",
      "metadata": {},
      "source": [
        "### 3. Bar: Add mini bar charts inside cells\n",
        "\n",
        "Again, use the `axis` parameter to adjust bar heights relative to other column values (`axis=0`), other row values (`axis=1`) or all values in the table (`axis=None`)."
      ]
    },
    {
      "cell_type": "code",
      "execution_count": null,
      "id": "66u7d5e8dnq",
      "metadata": {
        "tags": []
      },
      "outputs": [],
      "source": "# Add horizontal bars to visualize relative magnitudes\nnumeric_cols = ['Population_M', 'GDP_per_capita', 'Unemployment_rate', 'College_grad_pct']\ndisplay(results_df.style.bar(subset=numeric_cols, color='lightblue'))"
    },
    {
      "cell_type": "code",
      "execution_count": null,
      "id": "233d26b4-ff17-4f7e-988f-004d78319063",
      "metadata": {
        "tags": []
      },
      "outputs": [],
      "source": "display(results_df.style.bar(subset=numeric_cols, color='lightblue', axis=0))"
    },
    {
      "cell_type": "code",
      "execution_count": null,
      "id": "d46b127f-899e-4078-abf0-c0f8ba9fbe23",
      "metadata": {
        "tags": []
      },
      "outputs": [],
      "source": "display(results_df.style.bar(subset=numeric_cols, color='lightblue', axis=1))"
    },
    {
      "cell_type": "code",
      "execution_count": null,
      "id": "2ededfdd-3b51-4780-b085-d72cd108c269",
      "metadata": {
        "tags": []
      },
      "outputs": [],
      "source": "display(results_df.style.bar(subset=numeric_cols, color='lightblue', axis=None))"
    }
  ],
  "metadata": {
    "kernelspec": {
      "display_name": "Python 3 (ipykernel)",
      "language": "python",
      "name": "python3"
    },
    "language_info": {
      "codemirror_mode": {
        "name": "ipython",
        "version": 3
      },
      "file_extension": ".py",
      "mimetype": "text/x-python",
      "name": "python",
      "nbconvert_exporter": "python",
      "pygments_lexer": "ipython3",
      "version": "3.11.5"
    }
  },
  "nbformat": 4,
  "nbformat_minor": 5
}
