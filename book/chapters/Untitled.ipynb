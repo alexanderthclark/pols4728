{
 "cells": [
  {
   "cell_type": "markdown",
   "id": "e923a9c2-30a2-4bcc-9272-eccb93dc7d59",
   "metadata": {},
   "source": [
    "# Predictive Modeling\n",
    "\n",
    "## Predicting $\\hat{y}$\n",
    "\n",
    "Most of the machine learning models we will cover focus on prediction. In this world, we are not interested in marginal effects like the increase in wages attributable to schooling, standard errors, or even interpretability. Instead, we focus on some measure of predictive accuracy. A black box model is fine and a simpler model might only be preferred with parsimony as a tiebreaker.\n",
    "\n",
    "Let's focus on regression problems where $y$ is a continuous scalar value. For concreteness, let's say we are predicting midterm election vote share like in {cite}`tufte1975determinants`. The $y$ variable is $\\frac{\\text{Votes for Incumbent's Party in House Races}}{\\text{Total Votes in House Races}}$ and suppose we have a measure of economic growth as the single predictor variable $x$. We can use simple linear regression for this and \n",
    "\n"
   ]
  },
  {
   "cell_type": "code",
   "execution_count": null,
   "id": "650f5f23-f7fa-4f75-a177-5d926866a63c",
   "metadata": {},
   "outputs": [],
   "source": []
  }
 ],
 "metadata": {
  "kernelspec": {
   "display_name": "Python 3 (ipykernel)",
   "language": "python",
   "name": "python3"
  },
  "language_info": {
   "codemirror_mode": {
    "name": "ipython",
    "version": 3
   },
   "file_extension": ".py",
   "mimetype": "text/x-python",
   "name": "python",
   "nbconvert_exporter": "python",
   "pygments_lexer": "ipython3",
   "version": "3.11.5"
  }
 },
 "nbformat": 4,
 "nbformat_minor": 5
}
