{
 "cells": [
  {
   "cell_type": "markdown",
   "id": "intro-cell",
   "metadata": {},
   "source": [
    "# Dimensionality Reduction\n",
    "\n",
    "High-dimensional data is common in machine learning but difficult to visualize and understand. Dimensionality reduction techniques project high-dimensional data into lower dimensions while preserving important structure. We'll explore three popular methods: metric MDS, t-SNE, and UMAP.\n",
    "\n",
    "Each method makes different tradeoffs:\n",
    "- **Metric MDS**: Preserves pairwise distances exactly\n",
    "- **t-SNE**: Reveals local clusters and neighborhoods\n",
    "- **UMAP**: Balances local and global structure preservation"
   ]
  },
  {
   "cell_type": "code",
   "execution_count": null,
   "id": "imports-cell",
   "metadata": {},
   "outputs": [],
   "source": [
    "import numpy as np\n",
    "import matplotlib.pyplot as plt\n",
    "from sklearn.datasets import make_swiss_roll, make_circles\n",
    "from sklearn.manifold import MDS, TSNE\n",
    "from sklearn.preprocessing import StandardScaler\n",
    "import umap\n",
    "\n",
    "plt.style.use('seaborn-v0_8')\n",
    "plt.rcParams['figure.figsize'] = (12, 4)\n",
    "np.random.seed(42)"
   ]
  },
  {
   "cell_type": "markdown",
   "id": "mds-header",
   "metadata": {},
   "source": [
    "## Metric MDS (Multidimensional Scaling)\n",
    "\n",
    "Metric MDS finds a low-dimensional embedding that preserves pairwise distances as closely as possible. Given a distance matrix, it minimizes stress:\n",
    "\n",
    "$$\\text{Stress} = \\sqrt{\\frac{\\sum_{i<j} (d_{ij} - \\hat{d}_{ij})^2}{\\sum_{i<j} d_{ij}^2}}$$\n",
    "\n",
    "where $d_{ij}$ are original distances and $\\hat{d}_{ij}$ are embedded distances."
   ]
  },
  {
   "cell_type": "code",
   "execution_count": null,
   "id": "mds-example",
   "metadata": {},
   "outputs": [],
   "source": [
    "# Generate 3D Swiss roll data\n",
    "X_swiss, color_swiss = make_swiss_roll(n_samples=1000, noise=0.1, random_state=42)\n",
    "\n",
    "# Apply Metric MDS\n",
    "mds = MDS(n_components=2, metric=True, random_state=42)\n",
    "X_mds = mds.fit_transform(X_swiss)\n",
    "\n",
    "fig, (ax1, ax2) = plt.subplots(1, 2, figsize=(12, 5))\n",
    "\n",
    "# Original 3D data\n",
    "ax1 = fig.add_subplot(121, projection='3d')\n",
    "ax1.scatter(X_swiss[:, 0], X_swiss[:, 1], X_swiss[:, 2], c=color_swiss, cmap='viridis', alpha=0.7)\n",
    "ax1.set_title('Original Swiss Roll (3D)')\n",
    "ax1.set_xlabel('X')\n",
    "ax1.set_ylabel('Y')\n",
    "ax1.set_zlabel('Z')\n",
    "\n",
    "# MDS projection\n",
    "ax2 = fig.add_subplot(122)\n",
    "scatter = ax2.scatter(X_mds[:, 0], X_mds[:, 1], c=color_swiss, cmap='viridis', alpha=0.7)\n",
    "ax2.set_title(f'Metric MDS (Stress: {mds.stress_:.3f})')\n",
    "ax2.set_xlabel('Component 1')\n",
    "ax2.set_ylabel('Component 2')\n",
    "\n",
    "plt.tight_layout()\n",
    "plt.show()\n",
    "\n",
    "print(f\"MDS preserves distances with stress = {mds.stress_:.3f}\")\n",
    "print(f\"Lower stress indicates better distance preservation\")"
   ]
  },
  {
   "cell_type": "markdown",
   "id": "tsne-header",
   "metadata": {},
   "source": [
    "## t-SNE (t-Distributed Stochastic Neighbor Embedding)\n",
    "\n",
    "t-SNE converts similarities between data points to joint probabilities and tries to minimize the KL divergence between the joint probabilities of the low-dimensional embedding and the high-dimensional data. It's particularly good at revealing clusters and local structure."
   ]
  },
  {
   "cell_type": "code",
   "execution_count": null,
   "id": "tsne-example",
   "metadata": {},
   "outputs": [],
   "source": [
    "# Apply t-SNE to Swiss roll\n",
    "tsne = TSNE(n_components=2, perplexity=30, random_state=42)\n",
    "X_tsne = tsne.fit_transform(X_swiss)\n",
    "\n",
    "# Also create a more complex dataset\n",
    "X_circles, y_circles = make_circles(n_samples=800, noise=0.1, factor=0.3, random_state=42)\n",
    "X_tsne_circles = TSNE(n_components=2, perplexity=30, random_state=42).fit_transform(X_circles)\n",
    "\n",
    "fig, axes = plt.subplots(2, 2, figsize=(12, 10))\n",
    "\n",
    "# Swiss roll t-SNE\n",
    "axes[0,0].scatter(X_tsne[:, 0], X_tsne[:, 1], c=color_swiss, cmap='viridis', alpha=0.7)\n",
    "axes[0,0].set_title('t-SNE: Swiss Roll')\n",
    "axes[0,0].set_xlabel('t-SNE 1')\n",
    "axes[0,0].set_ylabel('t-SNE 2')\n",
    "\n",
    "# Original circles\n",
    "axes[0,1].scatter(X_circles[:, 0], X_circles[:, 1], c=y_circles, cmap='tab10', alpha=0.7)\n",
    "axes[0,1].set_title('Original Circles (2D)')\n",
    "axes[0,1].set_xlabel('Feature 1')\n",
    "axes[0,1].set_ylabel('Feature 2')\n",
    "\n",
    "# Circles t-SNE\n",
    "axes[1,0].scatter(X_tsne_circles[:, 0], X_tsne_circles[:, 1], c=y_circles, cmap='tab10', alpha=0.7)\n",
    "axes[1,0].set_title('t-SNE: Circles')\n",
    "axes[1,0].set_xlabel('t-SNE 1')\n",
    "axes[1,0].set_ylabel('t-SNE 2')\n",
    "\n",
    "# Remove bottom right subplot\n",
    "axes[1,1].axis('off')\n",
    "\n",
    "plt.tight_layout()\n",
    "plt.show()\n",
    "\n",
    "print(\"t-SNE excels at separating clusters and preserving local neighborhoods\")\n",
    "print(\"Perplexity parameter controls focus on local vs global structure\")"
   ]
  },
  {
   "cell_type": "markdown",
   "id": "umap-header",
   "metadata": {},
   "source": [
    "## UMAP (Uniform Manifold Approximation and Projection)\n",
    "\n",
    "UMAP constructs a topological representation of the data and finds a low-dimensional embedding that has the closest possible equivalent representation. It's faster than t-SNE and better preserves global structure while still revealing local patterns."
   ]
  },
  {
   "cell_type": "code",
   "execution_count": null,
   "id": "umap-example",
   "metadata": {},
   "outputs": [],
   "source": [
    "# Apply UMAP to both datasets\n",
    "umap_swiss = umap.UMAP(n_components=2, random_state=42)\n",
    "X_umap_swiss = umap_swiss.fit_transform(X_swiss)\n",
    "\n",
    "umap_circles = umap.UMAP(n_components=2, random_state=42)\n",
    "X_umap_circles = umap_circles.fit_transform(X_circles)\n",
    "\n",
    "fig, axes = plt.subplots(2, 2, figsize=(12, 10))\n",
    "\n",
    "# Swiss roll UMAP\n",
    "axes[0,0].scatter(X_umap_swiss[:, 0], X_umap_swiss[:, 1], c=color_swiss, cmap='viridis', alpha=0.7)\n",
    "axes[0,0].set_title('UMAP: Swiss Roll')\n",
    "axes[0,0].set_xlabel('UMAP 1')\n",
    "axes[0,0].set_ylabel('UMAP 2')\n",
    "\n",
    "# Circles UMAP\n",
    "axes[0,1].scatter(X_umap_circles[:, 0], X_umap_circles[:, 1], c=y_circles, cmap='tab10', alpha=0.7)\n",
    "axes[0,1].set_title('UMAP: Circles')\n",
    "axes[0,1].set_xlabel('UMAP 1')\n",
    "axes[0,1].set_ylabel('UMAP 2')\n",
    "\n",
    "# Remove bottom subplots\n",
    "axes[1,0].axis('off')\n",
    "axes[1,1].axis('off')\n",
    "\n",
    "plt.tight_layout()\n",
    "plt.show()\n",
    "\n",
    "print(\"UMAP preserves both local and global structure\")\n",
    "print(\"Generally faster than t-SNE and more stable across runs\")"
   ]
  },
  {
   "cell_type": "markdown",
   "id": "comparison-header",
   "metadata": {},
   "source": [
    "## Method Comparison\n",
    "\n",
    "Let's compare all three methods on the same dataset to see their different strengths."
   ]
  },
  {
   "cell_type": "code",
   "execution_count": null,
   "id": "comparison-cell",
   "metadata": {},
   "outputs": [],
   "source": [
    "# Use Swiss roll for comparison\n",
    "# We already have X_mds, X_tsne, X_umap_swiss from above\n",
    "\n",
    "fig, axes = plt.subplots(1, 3, figsize=(15, 4))\n",
    "\n",
    "# MDS\n",
    "axes[0].scatter(X_mds[:, 0], X_mds[:, 1], c=color_swiss, cmap='viridis', alpha=0.7)\n",
    "axes[0].set_title('Metric MDS\\n(Distance Preservation)')\n",
    "axes[0].set_xlabel('Component 1')\n",
    "axes[0].set_ylabel('Component 2')\n",
    "\n",
    "# t-SNE\n",
    "axes[1].scatter(X_tsne[:, 0], X_tsne[:, 1], c=color_swiss, cmap='viridis', alpha=0.7)\n",
    "axes[1].set_title('t-SNE\\n(Local Structure)')\n",
    "axes[1].set_xlabel('t-SNE 1')\n",
    "axes[1].set_ylabel('t-SNE 2')\n",
    "\n",
    "# UMAP\n",
    "axes[2].scatter(X_umap_swiss[:, 0], X_umap_swiss[:, 1], c=color_swiss, cmap='viridis', alpha=0.7)\n",
    "axes[2].set_title('UMAP\\n(Local + Global)')\n",
    "axes[2].set_xlabel('UMAP 1')\n",
    "axes[2].set_ylabel('UMAP 2')\n",
    "\n",
    "plt.tight_layout()\n",
    "plt.show()\n",
    "\n",
    "print(\"Key Differences:\")\n",
    "print(\"• MDS: Linear method, preserves all pairwise distances\")\n",
    "print(\"• t-SNE: Non-linear, emphasizes local neighborhoods and clusters\")\n",
    "print(\"• UMAP: Non-linear, preserves both local clustering and global structure\")"
   ]
  }
 ],
 "metadata": {
  "kernelspec": {
   "display_name": "Python 3",
   "language": "python",
   "name": "python3"
  },
  "language_info": {
   "codemirror_mode": {
    "name": "ipython",
    "version": 3
   },
   "file_extension": ".py",
   "mimetype": "text/x-python",
   "name": "python",
   "nbconvert_exporter": "python",
   "pygments_lexer": "ipython3",
   "version": "3.9.0"
  }
 },
 "nbformat": 4,
 "nbformat_minor": 5
}