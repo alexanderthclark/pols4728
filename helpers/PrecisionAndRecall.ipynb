{
 "cells": [
  {
   "cell_type": "markdown",
   "id": "e0145d39-171e-4725-a368-3d38c164a7c0",
   "metadata": {},
   "source": [
    "# Precision and Recall\n",
    "\n",
    "Let's get to know these two metrics better. \n",
    "\n",
    "\n",
    "$$\\text{Precision} = \\frac{\\text{True Positives}}{\\text{True Positives + False Positives}}$$\n",
    "\n",
    "$$\\text{Recall} = \\frac{\\text{True Positives}}{\\text{True Positives + False Negatives}}$$\n"
   ]
  },
  {
   "cell_type": "code",
   "execution_count": null,
   "id": "c8aacb4c-d47d-4790-b651-5ef325124e8b",
   "metadata": {
    "tags": []
   },
   "outputs": [],
   "source": [
    "import numpy as np\n",
    "import pandas as pd\n",
    "import itertools\n",
    "from itertools import product\n",
    "from sklearn.metrics import precision_score, recall_score, f1_score\n",
    "import matplotlib.pyplot as plt\n",
    "\n",
    "positives = np.ones(2)\n",
    "negatives = np.zeros(3)\n",
    "data = np.concatenate([positives, negatives])"
   ]
  },
  {
   "cell_type": "code",
   "execution_count": null,
   "id": "38e200be-b348-4ade-ae1e-a8fe15f38262",
   "metadata": {
    "tags": []
   },
   "outputs": [],
   "source": [
    "metrics = pd.DataFrame()\n",
    "for i in product([1,0], repeat=5):\n",
    "    i = np.array(i)\n",
    "    \n",
    "    idx = len(metrics)\n",
    "    \n",
    "    tp = np.where((data==i) & (data==1), 1, 0).sum()\n",
    "    tn = np.where((data==i) & (data==0), 1, 0).sum()\n",
    "    fp = np.where((data>i), 1, 0).sum()\n",
    "    fn = np.where((data<i), 1, 0).sum()\n",
    "    \n",
    "    preds = ''.join([str(j) for j in i])\n",
    "    preds = preds[0:2] + ' ' + preds[2:]\n",
    "    metrics.loc[idx, 'predictions'] = preds\n",
    "    \n",
    "    metrics.loc[idx, 'fp'] = fp.sum()\n",
    "    metrics.loc[idx, 'fn'] = fn.sum()\n",
    "    \n",
    "    metrics.loc[idx, 'tp'] = tp.sum()\n",
    "    metrics.loc[idx, 'tn'] = tn.sum()\n",
    "\n",
    "\n",
    "    metrics.loc[idx, 'precision'] = precision_score(data, i, zero_division=np.nan)\n",
    "    metrics.loc[idx, 'recall'] = recall_score(data, i, zero_division=np.nan)\n",
    "    metrics.loc[idx, 'f1'] = f1_score(data, i, zero_division=np.nan)\n"
   ]
  },
  {
   "cell_type": "code",
   "execution_count": null,
   "id": "2fd44f49-fbfa-499b-879d-e2360686d64b",
   "metadata": {
    "tags": []
   },
   "outputs": [],
   "source": [
    "goods = ['tp', 'tn', 'precision', 'recall', 'f1']\n",
    "bads = ['fp', 'fn']\n",
    "numerics = goods + bads\n",
    "s = metrics.sort_values(\"f1\", ascending=False).reset_index(drop=True).style\\\n",
    "        .set_caption(\"Possible Classifications\")\\\n",
    "        .format(\"{:.2f}\", subset=numerics)\\\n",
    "        .background_gradient(cmap='Greens', subset=goods, axis=None)\\\n",
    "        .background_gradient(cmap='Oranges', subset=bads,axis=None)\\\n",
    "        .highlight_null(color='lightgray', subset=numerics)\n",
    "\n",
    "html = s.to_html()\n",
    "s"
   ]
  },
  {
   "cell_type": "code",
   "execution_count": null,
   "id": "953c46cc-3a21-408f-90b2-e07d22a78b28",
   "metadata": {
    "tags": []
   },
   "outputs": [],
   "source": [
    "fig, ax = plt.subplots()\n",
    "ax.set_aspect(1)\n",
    "\n",
    "x = np.linspace(0, 1, 1000)\n",
    "y = np.linspace(0, 1, 1000)\n",
    "for f1_val in metrics['f1'].unique():\n",
    "    # get f1 surface\n",
    "    # f1 = 2*x*y/x+y\n",
    "    # ...\n",
    "    # y = - f1*x/(f1-2x)\n",
    "    \n",
    "    small = metrics[metrics.f1==f1_val]\n",
    "    ax.scatter(small.precision, small.recall, s=15*len(small), clip_on=False)\n",
    "    \n",
    "    if f1_val > 0:\n",
    "        y = -(f1_val*x)/(f1_val-2*x)\n",
    "        x2 = x[x>0.5*f1_val]\n",
    "        y2 = y[x>0.5*f1_val]\n",
    "        ax.plot(x2,y2)\n",
    "\n",
    "# point for precision = recall = 0\n",
    "ax.scatter([0], [0], s=15, clip_on=False)\n",
    "        \n",
    "ax.set_xlim(0, 1)\n",
    "ax.set_ylim(0, 1)\n",
    "\n",
    "ax.set_ylabel(\"Recall\")\n",
    "ax.set_xlabel(\"Precision\")\n",
    "ax.set_title(\"Precision, Recall, and F1\", pad=12)\n",
    "\n",
    "plt.tight_layout()\n",
    "plt.savefig(\"../book/assets/scatter_precision_recall_f1.svg\", transparent=True)"
   ]
  },
  {
   "cell_type": "code",
   "execution_count": null,
   "id": "d4799b1b-1cc1-4fcf-99b4-c9254fc66864",
   "metadata": {
    "tags": []
   },
   "outputs": [],
   "source": [
    "# Apply styling with better formatting for Jupyter Book\n",
    "styled_df = metrics.sort_values(\"f1\", ascending=False).reset_index(drop=True).style\\\n",
    "    .set_caption(\"Possible Classifications\")\\\n",
    "    .format(\"{:.2f}\", subset=numerics)\\\n",
    "    .background_gradient(cmap='Greens', subset=goods, axis=None)\\\n",
    "    .background_gradient(cmap='Oranges', subset=bads, axis=None)\\\n",
    "    .highlight_null(color='lightgray', subset=numerics)\\\n",
    "    .set_table_styles([\n",
    "        # Table styling\n",
    "        {'selector': '',\n",
    "         'props': [('border-collapse', 'separate'),\n",
    "                   ('border-spacing', '2px'),\n",
    "                   ('margin', '25px auto'),\n",
    "                   ('font-family', 'Inter, -apple-system, BlinkMacSystemFont, sans-serif'),\n",
    "                   ('font-size', '14px')]},\n",
    "        # Header styling\n",
    "        {'selector': 'th',\n",
    "         'props': [('background-color', '#f0f0f0'),\n",
    "                   ('color', '#000000'),\n",
    "                   ('padding', '10px 12px'),\n",
    "                   ('border', '1px solid #ccc'),\n",
    "                   ('text-align', 'center'),\n",
    "                   ('font-weight', '600')]},\n",
    "        # Cell styling\n",
    "        {'selector': 'td',\n",
    "         'props': [('padding', '8px 10px'),\n",
    "                   ('border', '1px solid #ccc'),\n",
    "                   ('text-align', 'center')]},\n",
    "        # Caption styling\n",
    "        {'selector': 'caption',\n",
    "         'props': [('font-size', '1.5rem'),\n",
    "                   ('font-weight', '600'),\n",
    "                   ('margin-bottom', '1rem'),\n",
    "                   ('font-family', 'Inter, -apple-system, BlinkMacSystemFont, sans-serif')]}\n",
    "    ])\\\n",
    "    .set_properties(**{'text-align': 'center'})\\\n",
    "    .hide(axis='index')  # Optional: hide the index column for cleaner look\n",
    "\n",
    "# get html\n",
    "hh = styled_df.to_html()"
   ]
  },
  {
   "cell_type": "code",
   "execution_count": null,
   "id": "31ae4b9f-a779-4d12-a7d8-8c847fc1dab9",
   "metadata": {
    "tags": []
   },
   "outputs": [],
   "source": [
    "#styled_df\n",
    "#print(hh)"
   ]
  },
  {
   "cell_type": "code",
   "execution_count": null,
   "id": "29982e65-9aac-465b-b165-420cc9e3c126",
   "metadata": {},
   "outputs": [],
   "source": []
  }
 ],
 "metadata": {
  "kernelspec": {
   "display_name": "base",
   "language": "python",
   "name": "python3"
  },
  "language_info": {
   "codemirror_mode": {
    "name": "ipython",
    "version": 3
   },
   "file_extension": ".py",
   "mimetype": "text/x-python",
   "name": "python",
   "nbconvert_exporter": "python",
   "pygments_lexer": "ipython3",
   "version": "3.11.5"
  }
 },
 "nbformat": 4,
 "nbformat_minor": 5
}
