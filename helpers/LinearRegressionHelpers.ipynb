{
 "cells": [
  {
   "cell_type": "markdown",
   "metadata": {},
   "source": [
    "# Linear Regression - Figure Generation\n",
    "\n",
    "This notebook generates figures for the linear regression chapter with consistent matplotlib styling."
   ]
  },
  {
   "cell_type": "code",
   "execution_count": null,
   "metadata": {},
   "source": [
    "# Setup and styling\n",
    "import numpy as np\n",
    "import matplotlib.pyplot as plt\n",
    "from mpl_toolkits.mplot3d import proj3d\n",
    "\n",
    "# Apply our custom matplotlib style\n",
    "plt.style.use('notes-base.mplstyle')"
   ],
   "outputs": []
  },
  {
   "cell_type": "code",
   "execution_count": null,
   "metadata": {},
   "source": [
    "# 3D Loss Surface Plot for Linear Regression\n",
    "# --- data ---\n",
    "rng = np.random.default_rng(3)\n",
    "x = np.linspace(0, 2, 20)\n",
    "y = 0.9 + 0.35 * x + rng.normal(0, 0.15, len(x))\n",
    "\n",
    "X = np.c_[np.ones_like(x), x]\n",
    "phi0_hat, phi1_hat = np.linalg.lstsq(X, y, rcond=None)[0]\n",
    "\n",
    "phi0 = np.linspace(0, 2.2, 200)\n",
    "phi1 = np.linspace(-1.0, 1.0, 200)\n",
    "P0, P1 = np.meshgrid(phi0, phi1)\n",
    "res = y[:, None, None] - (P0[None, ...] + P1[None, ...] * x[:, None, None])\n",
    "L = (res**2).mean(axis=0)\n",
    "\n",
    "cand = np.array([[0.2, 0.9],\n",
    "                 [1.8, 0.8],\n",
    "                 [phi0_hat, phi1_hat]])\n",
    "cand_losses = np.array([((y - (c0 + c1*x))**2).mean() for c0, c1 in cand])\n",
    "\n",
    "# --- plot ---\n",
    "fig = plt.figure(figsize=(11, 5.2))\n",
    "\n",
    "# (a) 3D loss surface\n",
    "ax1 = fig.add_subplot(1, 2, 1, projection='3d')\n",
    "surf = ax1.plot_surface(P0, P1, L, rstride=4, cstride=4, cmap='magma',\n",
    "                        linewidth=0, antialiased=True, alpha=0.75)\n",
    "surf.set_zsort('min')          # draw far facets first\n",
    "ax1.set_xlabel('Intercept')\n",
    "ax1.set_ylabel('Slope')\n",
    "ax1.set_zlabel('Loss')\n",
    "ax1.set_title('Loss (Surface Plot)')\n",
    "ax1.view_init(elev=28, azim=-55)\n",
    "\n",
    "# (b) heatmap + isocontours\n",
    "ax2 = fig.add_subplot(1, 2, 2)\n",
    "im = ax2.contourf(P0, P1, L, levels=60, cmap='magma')\n",
    "ax2.contour(P0, P1, L, levels=12, colors='white', linewidths=0.6, alpha=0.7)\n",
    "ax2.scatter(cand[:,0], cand[:,1], s=60,\n",
    "            c=['yellow','tab:cyan','limegreen'],\n",
    "            edgecolors='k', linewidths=0.7)\n",
    "ax2.set_xlabel('Intercept')\n",
    "ax2.set_ylabel('Slope')\n",
    "ax2.set_title('Loss (Contour Plot)')\n",
    "cbar = fig.colorbar(im, ax=ax2, fraction=0.046, pad=0.04)\n",
    "cbar.set_label('Loss')\n",
    "\n",
    "plt.subplots_adjust(wspace=0.4)\n",
    "fig.canvas.draw()  # finalize layout/projection before overlay\n",
    "\n",
    "# -------- overlay markers on 3D axes (robust; no tight-bbox errors) --------\n",
    "# project 3D points to 2D in ax1's data coordinates\n",
    "x2, y2, _ = proj3d.proj_transform(cand[:,0], cand[:,1], cand_losses, ax1.get_proj())\n",
    "\n",
    "# create a plain Axes that exactly overlaps ax1 (no locator; excluded from layout)\n",
    "bbox = ax1.get_position()\n",
    "ax_overlay = fig.add_axes(bbox, frameon=False)\n",
    "ax_overlay.set_axis_off()\n",
    "ax_overlay.set_in_layout(False)\n",
    "\n",
    "# convert display pixels -> overlay's axes fraction and draw there\n",
    "xy_disp = ax1.transData.transform(np.c_[x2, y2])\n",
    "xy_axes = ax_overlay.transAxes.inverted().transform(xy_disp)\n",
    "ax_overlay.scatter(xy_axes[:,0], xy_axes[:,1], s=120,\n",
    "                   transform=ax_overlay.transAxes,\n",
    "                   c=['yellow','tab:cyan','limegreen'],\n",
    "                   edgecolors='k', linewidths=1.2, clip_on=True)\n",
    "\n",
    "# Save for LaTeX\n",
    "plt.savefig(\"../tex/images/linear_reg_loss_surface.pdf\", transparent=True)\n",
    "plt.show()"
   ],
   "outputs": []
  }
 ],
 "metadata": {
  "kernelspec": {
   "display_name": "Python 3",
   "language": "python",
   "name": "python3"
  },
  "language_info": {
   "codemirror_mode": {
    "name": "ipython",
    "version": 3
   },
   "file_extension": ".py",
   "mimetype": "text/x-python",
   "name": "python",
   "nbconvert_exporter": "python",
   "pygments_lexer": "ipython3",
   "version": "3.11.0"
  }
 },
 "nbformat": 4,
 "nbformat_minor": 4
}