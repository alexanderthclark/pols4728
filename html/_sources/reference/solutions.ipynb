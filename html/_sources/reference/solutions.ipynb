{
 "cells": [
  {
   "cell_type": "markdown",
   "metadata": {},
   "source": [
    ":nosearch:\n",
    "\n",
    "# Selected Solutions\n",
    "\n",
    "## [Predictive Modeling](predictive)\n",
    "\n",
    "```{solution-start} CV-selection\n",
    ":class: dropdown\n",
    "```\n",
    "\n",
    "Only Lisa uses cross-validation correctly. She tunes models and hyperparameters using 5-fold CV on the training data, picks the winner by the cross-validated score, then evaluates that single, refit model once on the untouched test set to obtain an out-of-sample estimate. This approach keeps the test set completely separate from model selection, so the final performance estimate is not biased by the selection process.\n",
    "\n",
    "Bart misuses the test set by selecting the winning model on it after tuning via CV. We already know that we should not tune a specific model using the test set and choosing between models (eg linear regression vs neural network) on the basis of the test set is a similar mistake. This leaks information from the test set into the selection process, which can lead to optimistic bias because the chosen model may perform well on the test set partly due to chance. Once the test set is used for selection, it is no longer a valid measure of true generalization performance. \n",
    "\n",
    "A better alternative: if you do not want to hold out a single test split,  use nested cross-validation. An inner CV loop is used for tuning and an outer CV loop is used for unbiased performance estimation. This prevents the kind of bias caused by using the test set in the selection process.\n",
    "\n",
    "```{solution-end}\n",
    "```\n",
    "\n",
    "```{solution-start} james-stein\n",
    ":class: dropdown\n",
    "```\n",
    "This is a case of the James-Stein estimator. \n",
    "\n",
    "$$\\text{MSE}(\\alpha) = \\mathbb{E}[\\|\\theta - (1-\\alpha)Y\\|^2]$$\n",
    "\n",
    "Since $Y \\sim N(\\theta, I_3)$, we can write $Y = \\theta + Z$ where $Z \\sim N(0, I_3)$. Substituting:\n",
    "\n",
    "$$\\text{MSE}(\\alpha) = \\mathbb{E}[\\|\\theta - (1-\\alpha)(\\theta + Z)\\|^2]$$\n",
    "$$= \\mathbb{E}[\\|\\theta - (1-\\alpha)\\theta - (1-\\alpha)Z\\|^2]$$\n",
    "$$= \\mathbb{E}[\\|\\alpha\\theta - (1-\\alpha)Z\\|^2]$$\n",
    "\n",
    "Expanding the squared norm:\n",
    "$$\\text{MSE}(\\alpha) = \\mathbb{E}[\\|\\alpha\\theta\\|^2 - 2\\langle\\alpha\\theta, (1-\\alpha)Z\\rangle + \\|(1-\\alpha)Z\\|^2]$$\n",
    "\n",
    "Since $\\theta$ is fixed and $\\mathbb{E}[Z] = 0$,\n",
    "\n",
    "$$\\text{MSE}(\\alpha) = \\alpha^2\\|\\theta\\|^2 - 2\\alpha(1-\\alpha)\\theta^T\\mathbb{E}[Z] + (1-\\alpha)^2\\mathbb{E}[\\|Z\\|^2]$$\n",
    "$$= \\alpha^2\\|\\theta\\|^2 + (1-\\alpha)^2\\mathbb{E}[\\|Z\\|^2]$$\n",
    "\n",
    "For $Z \\sim N(0, I_3)$, we have $\\mathbb{E}[\\|Z\\|^2] = \\mathbb{E}[Z_1^2 + Z_2^2 + Z_3^2] = 1 + 1 + 1 = 3$.\n",
    "\n",
    "Therefore $\\text{MSE}(\\alpha) = \\alpha^2\\|\\theta\\|^2 + 3(1-\\alpha)^2$.\n",
    "\n",
    "Clearly the optimal $\\alpha$ is neither 0 nor 1. The MSE-optimal estimator is:\n",
    "$$\\theta_{\\alpha^*} = (1 - \\alpha^*)Y = \\left(1 - \\frac{3}{\\|\\theta\\|^2 + 3}\\right)Y = \\frac{\\|\\theta\\|^2}{\\|\\theta\\|^2 + 3}Y$$\n",
    "\n",
    "The MSE-optimal estimator is biased if $\\theta$ is nonzero.\n",
    "\n",
    "```{solution-end}\n",
    "```"
   ]
  },
  {
   "cell_type": "code",
   "execution_count": null,
   "metadata": {},
   "outputs": [],
   "source": []
  }
 ],
 "metadata": {
  "kernelspec": {
   "display_name": "Python 3 (ipykernel)",
   "language": "python",
   "name": "python3"
  },
  "language_info": {
   "codemirror_mode": {
    "name": "ipython",
    "version": 3
   },
   "file_extension": ".py",
   "mimetype": "text/x-python",
   "name": "python",
   "nbconvert_exporter": "python",
   "pygments_lexer": "ipython3",
   "version": "3.11.5"
  }
 },
 "nbformat": 4,
 "nbformat_minor": 4
}
