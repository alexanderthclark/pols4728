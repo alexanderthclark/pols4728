











import pandas as pd
import matplotlib.pyplot as plt
import statsmodels.formula.api as smf


df1


url = 'https://raw.githubusercontent.com/alexanderthclark/pols4728/refs/heads/main/data/Tufte_midterms.csv'
df = pd.read_csv(url)
df1 = df[df.in_original==True]

res = smf.ols(formula='vote_loss ~ rgdp_growth_yoy', data=df1).fit()
eq = r"$\hat{y} = " + fr"{res.params[0]:+.1f}{res.params[1]:+.1f}x$"

y = df1.vote_loss
plt.scatter(df1.rgdp_growth_yoy, y, ec='black', fc='white')
plt.ylabel("Standardized Vote Loss") 
plt.xlabel("Real GDP YoY Growth")
plt.title("Vote Loss by GDP YoY Growth\n" + eq)

x0, x1 = df1.rgdp_growth_yoy.min(), df1.rgdp_growth_yoy.max()
y0 = res.params.values @ np.array([1, x0])
y1 = res.params.values @ np.array([1, x1])

plt.plot([x0, x1], [y0, y1], ls='dashed')
plt.close()

fig, axs = plt.subplots(1,2, figsize=(9,4), sharey=True)

ax = axs[0]
ax.scatter(df1.pres_approval, y, color='C0')

ax = axs[1]
ax.scatter(df1.delta_rdi, y, color='C1')
plt.show()





res = smf.ols(formula='vote_loss ~ rgdp_growth_yoy + pres_approval', data=df1).fit()
res.summary()


res = smf.ols(formula='vote_loss ~ delta_rdi + pres_approval', data=df1).fit()
res.summary()


import pandas as pd
import matplotlib.pyplot as plt
import statsmodels.formula.api as smf

# ------------------------------------------------------------------
# Data from Tufte (1975) Table 1   (1942 excluded)
# ------------------------------------------------------------------
d = {
    "year":                  [1938, 1946, 1950, 1954, 1958, 1962, 1966, 1970],
    "vote_share":            [50.82, 45.27, 50.04, 47.46, 43.90, 52.42, 51.33, 45.68],   # V_i
    "normal_vote":           [57.18, 52.57, 52.04, 49.79, 49.83, 51.63, 53.06, 46.66],   # N_i*
    "approval_pct":          [57,    32,    43,    65,    56,    67,    48,    56],      # Gallup
    "delta_rdi_dollars":     [-82,   -36,   99,    -12,   -13,   60,    96,    69]       # $ change
}

df = pd.DataFrame(d)
df["std_loss"]         = df["vote_share"] - df["normal_vote"]     # Y_i

# ------------------------------------------------------------------
# OLS replication of Tufte Table 2
# ------------------------------------------------------------------
X = sm.add_constant(df[["approval_pct", "delta_rdi_dollars"]])
y = df["std_loss"]
tufte = sm.OLS(y, X).fit()
print(tufte.summary())


df


df1


import pandas as pd
import statsmodels.formula.api as smf
import matplotlib.pyplot as plt

url = 'https://raw.githubusercontent.com/alexanderthclark/pols4728/refs/heads/main/data/Tufte_Midterms_Extended.csv'
df1 = pd.read_csv(url)


res = smf.ols(formula='vote_share_incumbent ~ delta_rdi', data=df.head(8)).fit()
res.summary()


# Tufte (1975) replication – standardized vote loss model
import pandas as pd, statsmodels.api as sm

# ------------------------------------------------------------------
# Data from Tufte (1975) Table 1   (1942 excluded)
# ------------------------------------------------------------------
d = {
    "year":                  [1938, 1946, 1950, 1954, 1958, 1962, 1966, 1970],
    "vote_share":            [50.82, 45.27, 50.04, 47.46, 43.90, 52.42, 51.33, 45.68],   # V_i
    "normal_vote":           [57.18, 52.57, 52.04, 49.79, 49.83, 51.63, 53.06, 46.66],   # N_i*
    "approval_pct":          [57,    32,    43,    65,    56,    67,    48,    56],      # Gallup
    "delta_rdi_dollars":     [-82,   -36,   99,    -12,   -13,   60,    96,    69]       # $ change
}

df = pd.DataFrame(d)
df["std_loss"]         = df["vote_share"] - df["normal_vote"]     # Y_i

# ------------------------------------------------------------------
# OLS replication of Tufte Table 2
# ------------------------------------------------------------------
X = sm.add_constant(df[["approval_pct", "delta_rdi_dollars"]])
y = df["std_loss"]
tufte = sm.OLS(y, X).fit()
print(tufte.summary())         # R² ≈ .91, coeffs ≈ .133 and .035














import numpy as np


import numpy as np
rng = np.random.default_rng(0)

p = 3
theta = np.array([50, -1.0, 10])   # any fixed 3-vector
theta = np.array([0,0,0])   # any fixed 3-vector

R = 1_000_000                             # Monte Carlo replications

# One-shot normal-means: Y ~ N(theta, I_p)
Y  = theta + rng.normal(size=(R, p))
r2 = np.sum(Y**2, axis=1)

# James–Stein shrinkage factors (σ² = 1)
a  = 1 - (p - 2) / r2                   # untruncated JS
ap = np.maximum(0.0, a)                 # positive-part JS

# Squared-error losses
mle_se = np.sum((Y - theta)**2, axis=1)
mle_se2 = np.linalg.norm(Y-theta, axis=1)**2
js_se2 = np.linalg.norm((a[:, None]  * Y) -theta, axis=1)**2

js_se  = np.sum(((a[:, None]  * Y) - theta)**2, axis=1)
jsp_se = np.sum(((ap[:, None] * Y) - theta)**2, axis=1)

print("Normal-means (p=3, σ²=1)")
print(f"MLE risk ≈ {mle_se.mean():.6f}")
print(f"MLE risk ≈ {mle_se2.mean():.6f}")
print(f"JS  risk ≈ {js_se2.mean():.6f}")

print(f"JS  risk ≈ {js_se.mean():.6f}")
print(f"JS+ risk ≈ {jsp_se.mean():.6f}")




